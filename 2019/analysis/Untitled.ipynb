{
 "cells": [
  {
   "cell_type": "code",
   "execution_count": 64,
   "metadata": {},
   "outputs": [],
   "source": [
    "import geopandas as gpd\n",
    "import pandas as pd\n",
    "from pandas.io.json import json_normalize\n",
    "import cartopy.crs as ccrs\n",
    "import cartopy.feature as cf\n",
    "import matplotlib.pyplot as plt\n",
    "from datetime import datetime\n",
    "\n",
    "from shapely import geometry\n",
    "\n",
    "import json \n",
    "\n",
    "%matplotlib inline"
   ]
  },
  {
   "cell_type": "code",
   "execution_count": null,
   "metadata": {},
   "outputs": [],
   "source": [
    "date.fromtimestamp()"
   ]
  },
  {
   "cell_type": "markdown",
   "metadata": {},
   "source": [
    "# 2019 Location History – Google"
   ]
  },
  {
   "cell_type": "code",
   "execution_count": 178,
   "metadata": {},
   "outputs": [
    {
     "name": "stderr",
     "output_type": "stream",
     "text": [
      "cat: 2019_*.json: No such file or directory\n"
     ]
    }
   ],
   "source": [
    "%%bash \n",
    "cat 2019_*.json | jq '.timelineObjects[] | if .placeVisit then {type: \"placevisit\", location: {latE7: .placeVisit.centerLatE7, lonE7: .placeVisit.centerLngE7}, duration: .placeVisit.duration} else {type: \"move\", location: .activitySegment.waypointPath.waypoints, duration: .activitySegment.duration} end'  > combined.json"
   ]
  },
  {
   "cell_type": "code",
   "execution_count": 179,
   "metadata": {},
   "outputs": [],
   "source": [
    "data = json_normalize(json.load(open(\"Location History/Semantic Location History/2019/combined.json\")))"
   ]
  },
  {
   "cell_type": "code",
   "execution_count": 180,
   "metadata": {},
   "outputs": [],
   "source": [
    "data['duration.endTimestampMs'] = [datetime.fromtimestamp(int(d) // 1000) for d in data['duration.endTimestampMs'].values]\n",
    "data['duration.startTimestampMs'] = [datetime.fromtimestamp(int(d) // 1000) for d in data['duration.startTimestampMs'].values]\n",
    "data = data.rename(index=str, columns={\"duration.endTimestampMs\": 'endTime', \"duration.startTimestampMs\": 'startTime'})"
   ]
  },
  {
   "cell_type": "code",
   "execution_count": 181,
   "metadata": {},
   "outputs": [
    {
     "data": {
      "text/html": [
       "<div>\n",
       "<style scoped>\n",
       "    .dataframe tbody tr th:only-of-type {\n",
       "        vertical-align: middle;\n",
       "    }\n",
       "\n",
       "    .dataframe tbody tr th {\n",
       "        vertical-align: top;\n",
       "    }\n",
       "\n",
       "    .dataframe thead th {\n",
       "        text-align: right;\n",
       "    }\n",
       "</style>\n",
       "<table border=\"1\" class=\"dataframe\">\n",
       "  <thead>\n",
       "    <tr style=\"text-align: right;\">\n",
       "      <th></th>\n",
       "      <th>endTime</th>\n",
       "      <th>startTime</th>\n",
       "      <th>location</th>\n",
       "      <th>location.latE7</th>\n",
       "      <th>location.lonE7</th>\n",
       "      <th>type</th>\n",
       "    </tr>\n",
       "  </thead>\n",
       "  <tbody>\n",
       "    <tr>\n",
       "      <th>0</th>\n",
       "      <td>2019-03-31 22:10:35</td>\n",
       "      <td>2019-03-31 20:12:37</td>\n",
       "      <td>[{'latE7': 476625556, 'lngE7': -1223608627}, {...</td>\n",
       "      <td>NaN</td>\n",
       "      <td>NaN</td>\n",
       "      <td>move</td>\n",
       "    </tr>\n",
       "    <tr>\n",
       "      <th>1</th>\n",
       "      <td>2019-03-31 22:39:43</td>\n",
       "      <td>2019-03-31 22:10:35</td>\n",
       "      <td>NaN</td>\n",
       "      <td>476239200.0</td>\n",
       "      <td>-1.223015e+09</td>\n",
       "      <td>placevisit</td>\n",
       "    </tr>\n",
       "    <tr>\n",
       "      <th>2</th>\n",
       "      <td>2019-03-31 22:46:39</td>\n",
       "      <td>2019-03-31 22:39:43</td>\n",
       "      <td>[{'latE7': 476243934, 'lngE7': -1223012008}, {...</td>\n",
       "      <td>NaN</td>\n",
       "      <td>NaN</td>\n",
       "      <td>move</td>\n",
       "    </tr>\n",
       "    <tr>\n",
       "      <th>3</th>\n",
       "      <td>2019-03-31 22:59:38</td>\n",
       "      <td>2019-03-31 22:46:39</td>\n",
       "      <td>NaN</td>\n",
       "      <td>475998500.0</td>\n",
       "      <td>-1.223010e+09</td>\n",
       "      <td>placevisit</td>\n",
       "    </tr>\n",
       "    <tr>\n",
       "      <th>4</th>\n",
       "      <td>2019-04-01 10:26:40</td>\n",
       "      <td>2019-03-31 22:59:38</td>\n",
       "      <td>[{'latE7': 476002464, 'lngE7': -1222998657}, {...</td>\n",
       "      <td>NaN</td>\n",
       "      <td>NaN</td>\n",
       "      <td>move</td>\n",
       "    </tr>\n",
       "  </tbody>\n",
       "</table>\n",
       "</div>"
      ],
      "text/plain": [
       "              endTime           startTime  \\\n",
       "0 2019-03-31 22:10:35 2019-03-31 20:12:37   \n",
       "1 2019-03-31 22:39:43 2019-03-31 22:10:35   \n",
       "2 2019-03-31 22:46:39 2019-03-31 22:39:43   \n",
       "3 2019-03-31 22:59:38 2019-03-31 22:46:39   \n",
       "4 2019-04-01 10:26:40 2019-03-31 22:59:38   \n",
       "\n",
       "                                            location  location.latE7  \\\n",
       "0  [{'latE7': 476625556, 'lngE7': -1223608627}, {...             NaN   \n",
       "1                                                NaN     476239200.0   \n",
       "2  [{'latE7': 476243934, 'lngE7': -1223012008}, {...             NaN   \n",
       "3                                                NaN     475998500.0   \n",
       "4  [{'latE7': 476002464, 'lngE7': -1222998657}, {...             NaN   \n",
       "\n",
       "   location.lonE7        type  \n",
       "0             NaN        move  \n",
       "1   -1.223015e+09  placevisit  \n",
       "2             NaN        move  \n",
       "3   -1.223010e+09  placevisit  \n",
       "4             NaN        move  "
      ]
     },
     "execution_count": 181,
     "metadata": {},
     "output_type": "execute_result"
    }
   ],
   "source": [
    "data.head()"
   ]
  },
  {
   "cell_type": "code",
   "execution_count": 182,
   "metadata": {},
   "outputs": [
    {
     "name": "stderr",
     "output_type": "stream",
     "text": [
      "/Users/tony/miniconda3/envs/geo/lib/python3.5/site-packages/pandas/core/generic.py:4405: SettingWithCopyWarning: \n",
      "A value is trying to be set on a copy of a slice from a DataFrame.\n",
      "Try using .loc[row_indexer,col_indexer] = value instead\n",
      "\n",
      "See the caveats in the documentation: http://pandas.pydata.org/pandas-docs/stable/indexing.html#indexing-view-versus-copy\n",
      "  self[name] = value\n"
     ]
    }
   ],
   "source": [
    "pointlocs = data[data.type == 'placevisit']\n",
    "pointlocs\n",
    "lat_lon = [ {'lon': i[1], 'lat' : i[0]} for i in zip(pointlocs['location.latE7'], pointlocs['location.lonE7'])]\n",
    "pointlocs.location = lat_lon"
   ]
  },
  {
   "cell_type": "code",
   "execution_count": 183,
   "metadata": {},
   "outputs": [],
   "source": [
    "data.loc[pointlocs.index, 'location']= lat_lon"
   ]
  },
  {
   "cell_type": "code",
   "execution_count": 184,
   "metadata": {},
   "outputs": [],
   "source": [
    "data = data.drop(['location.latE7', 'location.lonE7'], axis=1)"
   ]
  },
  {
   "cell_type": "code",
   "execution_count": 185,
   "metadata": {},
   "outputs": [
    {
     "data": {
      "text/html": [
       "<div>\n",
       "<style scoped>\n",
       "    .dataframe tbody tr th:only-of-type {\n",
       "        vertical-align: middle;\n",
       "    }\n",
       "\n",
       "    .dataframe tbody tr th {\n",
       "        vertical-align: top;\n",
       "    }\n",
       "\n",
       "    .dataframe thead th {\n",
       "        text-align: right;\n",
       "    }\n",
       "</style>\n",
       "<table border=\"1\" class=\"dataframe\">\n",
       "  <thead>\n",
       "    <tr style=\"text-align: right;\">\n",
       "      <th></th>\n",
       "      <th>endTime</th>\n",
       "      <th>startTime</th>\n",
       "      <th>location</th>\n",
       "      <th>type</th>\n",
       "    </tr>\n",
       "  </thead>\n",
       "  <tbody>\n",
       "    <tr>\n",
       "      <th>0</th>\n",
       "      <td>2019-03-31 22:10:35</td>\n",
       "      <td>2019-03-31 20:12:37</td>\n",
       "      <td>[{'latE7': 476625556, 'lngE7': -1223608627}, {...</td>\n",
       "      <td>move</td>\n",
       "    </tr>\n",
       "    <tr>\n",
       "      <th>1</th>\n",
       "      <td>2019-03-31 22:39:43</td>\n",
       "      <td>2019-03-31 22:10:35</td>\n",
       "      <td>{'lon': -1223014800.0, 'lat': 476239200.0}</td>\n",
       "      <td>placevisit</td>\n",
       "    </tr>\n",
       "    <tr>\n",
       "      <th>2</th>\n",
       "      <td>2019-03-31 22:46:39</td>\n",
       "      <td>2019-03-31 22:39:43</td>\n",
       "      <td>[{'latE7': 476243934, 'lngE7': -1223012008}, {...</td>\n",
       "      <td>move</td>\n",
       "    </tr>\n",
       "    <tr>\n",
       "      <th>3</th>\n",
       "      <td>2019-03-31 22:59:38</td>\n",
       "      <td>2019-03-31 22:46:39</td>\n",
       "      <td>{'lon': -1223010450.0, 'lat': 475998500.0}</td>\n",
       "      <td>placevisit</td>\n",
       "    </tr>\n",
       "    <tr>\n",
       "      <th>4</th>\n",
       "      <td>2019-04-01 10:26:40</td>\n",
       "      <td>2019-03-31 22:59:38</td>\n",
       "      <td>[{'latE7': 476002464, 'lngE7': -1222998657}, {...</td>\n",
       "      <td>move</td>\n",
       "    </tr>\n",
       "  </tbody>\n",
       "</table>\n",
       "</div>"
      ],
      "text/plain": [
       "              endTime           startTime  \\\n",
       "0 2019-03-31 22:10:35 2019-03-31 20:12:37   \n",
       "1 2019-03-31 22:39:43 2019-03-31 22:10:35   \n",
       "2 2019-03-31 22:46:39 2019-03-31 22:39:43   \n",
       "3 2019-03-31 22:59:38 2019-03-31 22:46:39   \n",
       "4 2019-04-01 10:26:40 2019-03-31 22:59:38   \n",
       "\n",
       "                                            location        type  \n",
       "0  [{'latE7': 476625556, 'lngE7': -1223608627}, {...        move  \n",
       "1         {'lon': -1223014800.0, 'lat': 476239200.0}  placevisit  \n",
       "2  [{'latE7': 476243934, 'lngE7': -1223012008}, {...        move  \n",
       "3         {'lon': -1223010450.0, 'lat': 475998500.0}  placevisit  \n",
       "4  [{'latE7': 476002464, 'lngE7': -1222998657}, {...        move  "
      ]
     },
     "execution_count": 185,
     "metadata": {},
     "output_type": "execute_result"
    }
   ],
   "source": [
    "data.head()"
   ]
  },
  {
   "cell_type": "code",
   "execution_count": 186,
   "metadata": {},
   "outputs": [],
   "source": [
    "def convert_location_list(loclist):\n",
    "    if loclist:\n",
    "        ret = []\n",
    "        for loc in loclist:\n",
    "            ret.append({\n",
    "                k.replace(\"E7\", \"\"): v / 10**7\n",
    "                for k, v in loc.items()\n",
    "            })\n",
    "    #     return ret\n",
    "        return geometry.LineString([geometry.Point(i['lng'], i['lat']) for i in ret])\n",
    "    else :\n",
    "        return loclist\n",
    "        \n",
    "def convert_point(point):\n",
    "    if point:\n",
    "        return geometry.Point(point['lon'] / 10**7, point['lat'] / 10**7)\n",
    "    else :\n",
    "        return point"
   ]
  },
  {
   "cell_type": "code",
   "execution_count": 187,
   "metadata": {},
   "outputs": [],
   "source": [
    "converted_locs = [convert_location_list(i.location) if i.type =='move' else convert_point(i.location) for _, i in data.iterrows()]"
   ]
  },
  {
   "cell_type": "code",
   "execution_count": 188,
   "metadata": {},
   "outputs": [],
   "source": [
    "data.location = converted_locs"
   ]
  },
  {
   "cell_type": "code",
   "execution_count": 189,
   "metadata": {},
   "outputs": [
    {
     "data": {
      "text/html": [
       "<div>\n",
       "<style scoped>\n",
       "    .dataframe tbody tr th:only-of-type {\n",
       "        vertical-align: middle;\n",
       "    }\n",
       "\n",
       "    .dataframe tbody tr th {\n",
       "        vertical-align: top;\n",
       "    }\n",
       "\n",
       "    .dataframe thead th {\n",
       "        text-align: right;\n",
       "    }\n",
       "</style>\n",
       "<table border=\"1\" class=\"dataframe\">\n",
       "  <thead>\n",
       "    <tr style=\"text-align: right;\">\n",
       "      <th></th>\n",
       "      <th>endTime</th>\n",
       "      <th>startTime</th>\n",
       "      <th>location</th>\n",
       "      <th>type</th>\n",
       "    </tr>\n",
       "  </thead>\n",
       "  <tbody>\n",
       "    <tr>\n",
       "      <th>0</th>\n",
       "      <td>2019-03-31 22:10:35</td>\n",
       "      <td>2019-03-31 20:12:37</td>\n",
       "      <td>LINESTRING (-122.3608627 47.6625556, -122.3609...</td>\n",
       "      <td>move</td>\n",
       "    </tr>\n",
       "    <tr>\n",
       "      <th>1</th>\n",
       "      <td>2019-03-31 22:39:43</td>\n",
       "      <td>2019-03-31 22:10:35</td>\n",
       "      <td>POINT (-122.30148 47.62392)</td>\n",
       "      <td>placevisit</td>\n",
       "    </tr>\n",
       "    <tr>\n",
       "      <th>2</th>\n",
       "      <td>2019-03-31 22:46:39</td>\n",
       "      <td>2019-03-31 22:39:43</td>\n",
       "      <td>LINESTRING (-122.3012008 47.6243934, -122.3024...</td>\n",
       "      <td>move</td>\n",
       "    </tr>\n",
       "    <tr>\n",
       "      <th>3</th>\n",
       "      <td>2019-03-31 22:59:38</td>\n",
       "      <td>2019-03-31 22:46:39</td>\n",
       "      <td>POINT (-122.301045 47.59985)</td>\n",
       "      <td>placevisit</td>\n",
       "    </tr>\n",
       "    <tr>\n",
       "      <th>4</th>\n",
       "      <td>2019-04-01 10:26:40</td>\n",
       "      <td>2019-03-31 22:59:38</td>\n",
       "      <td>LINESTRING (-122.2998657 47.6002464, -122.3472...</td>\n",
       "      <td>move</td>\n",
       "    </tr>\n",
       "  </tbody>\n",
       "</table>\n",
       "</div>"
      ],
      "text/plain": [
       "              endTime           startTime  \\\n",
       "0 2019-03-31 22:10:35 2019-03-31 20:12:37   \n",
       "1 2019-03-31 22:39:43 2019-03-31 22:10:35   \n",
       "2 2019-03-31 22:46:39 2019-03-31 22:39:43   \n",
       "3 2019-03-31 22:59:38 2019-03-31 22:46:39   \n",
       "4 2019-04-01 10:26:40 2019-03-31 22:59:38   \n",
       "\n",
       "                                            location        type  \n",
       "0  LINESTRING (-122.3608627 47.6625556, -122.3609...        move  \n",
       "1                        POINT (-122.30148 47.62392)  placevisit  \n",
       "2  LINESTRING (-122.3012008 47.6243934, -122.3024...        move  \n",
       "3                       POINT (-122.301045 47.59985)  placevisit  \n",
       "4  LINESTRING (-122.2998657 47.6002464, -122.3472...        move  "
      ]
     },
     "execution_count": 189,
     "metadata": {},
     "output_type": "execute_result"
    }
   ],
   "source": [
    "data.head()"
   ]
  },
  {
   "cell_type": "code",
   "execution_count": 190,
   "metadata": {},
   "outputs": [],
   "source": [
    "data_geo = gpd.GeoDataFrame(data, geometry=data.location)"
   ]
  },
  {
   "cell_type": "code",
   "execution_count": 198,
   "metadata": {},
   "outputs": [
    {
     "data": {
      "text/plain": [
       "<matplotlib.axes._subplots.AxesSubplot at 0x11f539518>"
      ]
     },
     "execution_count": 198,
     "metadata": {},
     "output_type": "execute_result"
    },
    {
     "data": {
      "image/png": "[encoded data removed]",
      "text/plain": [
       "<Figure size 432x288 with 1 Axes>"
      ]
     },
     "metadata": {
      "needs_background": "light"
     },
     "output_type": "display_data"
    }
   ],
   "source": [
    "data_geo[data_geo['type'] == 'move'].plot()"
   ]
  },
  {
   "cell_type": "code",
   "execution_count": null,
   "metadata": {},
   "outputs": [],
   "source": []
  },
  {
   "cell_type": "markdown",
   "metadata": {},
   "source": [
    "## Try to use raw location data"
   ]
  },
  {
   "cell_type": "code",
   "execution_count": 244,
   "metadata": {},
   "outputs": [],
   "source": [
    "rawdata = \"Location History/Location History.json\"\n",
    "raw = json_normalize(json.load(open(rawdata))['locations'])"
   ]
  },
  {
   "cell_type": "code",
   "execution_count": 245,
   "metadata": {},
   "outputs": [],
   "source": [
    "raw['time'] = [datetime.fromtimestamp(int(i.timestampMs) // 1000) for _, i in raw.iterrows()]"
   ]
  },
  {
   "cell_type": "code",
   "execution_count": 246,
   "metadata": {},
   "outputs": [],
   "source": [
    "raw_2019 = raw[raw.time > '2019-01-01']"
   ]
  },
  {
   "cell_type": "code",
   "execution_count": 247,
   "metadata": {},
   "outputs": [],
   "source": [
    "raw_2019 =  raw_2019.set_index(raw_2019.time)"
   ]
  },
  {
   "cell_type": "code",
   "execution_count": 248,
   "metadata": {},
   "outputs": [
    {
     "data": {
      "text/html": [
       "<div>\n",
       "<style scoped>\n",
       "    .dataframe tbody tr th:only-of-type {\n",
       "        vertical-align: middle;\n",
       "    }\n",
       "\n",
       "    .dataframe tbody tr th {\n",
       "        vertical-align: top;\n",
       "    }\n",
       "\n",
       "    .dataframe thead th {\n",
       "        text-align: right;\n",
       "    }\n",
       "</style>\n",
       "<table border=\"1\" class=\"dataframe\">\n",
       "  <thead>\n",
       "    <tr style=\"text-align: right;\">\n",
       "      <th></th>\n",
       "      <th>accuracy</th>\n",
       "      <th>altitude</th>\n",
       "      <th>heading</th>\n",
       "      <th>latitudeE7</th>\n",
       "      <th>longitudeE7</th>\n",
       "      <th>timestampMs</th>\n",
       "      <th>velocity</th>\n",
       "      <th>verticalAccuracy</th>\n",
       "      <th>time</th>\n",
       "    </tr>\n",
       "    <tr>\n",
       "      <th>time</th>\n",
       "      <th></th>\n",
       "      <th></th>\n",
       "      <th></th>\n",
       "      <th></th>\n",
       "      <th></th>\n",
       "      <th></th>\n",
       "      <th></th>\n",
       "      <th></th>\n",
       "      <th></th>\n",
       "    </tr>\n",
       "  </thead>\n",
       "  <tbody>\n",
       "    <tr>\n",
       "      <th>2019-01-01 10:50:06</th>\n",
       "      <td>10</td>\n",
       "      <td>132.0</td>\n",
       "      <td>NaN</td>\n",
       "      <td>485310797</td>\n",
       "      <td>-1214493634</td>\n",
       "      <td>1546357806916</td>\n",
       "      <td>NaN</td>\n",
       "      <td>24.0</td>\n",
       "      <td>2019-01-01 10:50:06</td>\n",
       "    </tr>\n",
       "    <tr>\n",
       "      <th>2019-01-01 11:12:26</th>\n",
       "      <td>10</td>\n",
       "      <td>107.0</td>\n",
       "      <td>NaN</td>\n",
       "      <td>485312593</td>\n",
       "      <td>-1214496719</td>\n",
       "      <td>1546359146258</td>\n",
       "      <td>0.0</td>\n",
       "      <td>4.0</td>\n",
       "      <td>2019-01-01 11:12:26</td>\n",
       "    </tr>\n",
       "    <tr>\n",
       "      <th>2019-01-01 11:16:49</th>\n",
       "      <td>10</td>\n",
       "      <td>12.0</td>\n",
       "      <td>NaN</td>\n",
       "      <td>485311283</td>\n",
       "      <td>-1214494366</td>\n",
       "      <td>1546359409220</td>\n",
       "      <td>0.0</td>\n",
       "      <td>32.0</td>\n",
       "      <td>2019-01-01 11:16:49</td>\n",
       "    </tr>\n",
       "    <tr>\n",
       "      <th>2019-01-01 11:34:58</th>\n",
       "      <td>10</td>\n",
       "      <td>87.0</td>\n",
       "      <td>NaN</td>\n",
       "      <td>485311578</td>\n",
       "      <td>-1214495411</td>\n",
       "      <td>1546360498813</td>\n",
       "      <td>0.0</td>\n",
       "      <td>24.0</td>\n",
       "      <td>2019-01-01 11:34:58</td>\n",
       "    </tr>\n",
       "    <tr>\n",
       "      <th>2019-01-01 11:54:55</th>\n",
       "      <td>10</td>\n",
       "      <td>123.0</td>\n",
       "      <td>25.0</td>\n",
       "      <td>485312254</td>\n",
       "      <td>-1214496973</td>\n",
       "      <td>1546361695866</td>\n",
       "      <td>0.0</td>\n",
       "      <td>16.0</td>\n",
       "      <td>2019-01-01 11:54:55</td>\n",
       "    </tr>\n",
       "  </tbody>\n",
       "</table>\n",
       "</div>"
      ],
      "text/plain": [
       "                     accuracy  altitude  heading  latitudeE7  longitudeE7  \\\n",
       "time                                                                        \n",
       "2019-01-01 10:50:06        10     132.0      NaN   485310797  -1214493634   \n",
       "2019-01-01 11:12:26        10     107.0      NaN   485312593  -1214496719   \n",
       "2019-01-01 11:16:49        10      12.0      NaN   485311283  -1214494366   \n",
       "2019-01-01 11:34:58        10      87.0      NaN   485311578  -1214495411   \n",
       "2019-01-01 11:54:55        10     123.0     25.0   485312254  -1214496973   \n",
       "\n",
       "                       timestampMs  velocity  verticalAccuracy  \\\n",
       "time                                                             \n",
       "2019-01-01 10:50:06  1546357806916       NaN              24.0   \n",
       "2019-01-01 11:12:26  1546359146258       0.0               4.0   \n",
       "2019-01-01 11:16:49  1546359409220       0.0              32.0   \n",
       "2019-01-01 11:34:58  1546360498813       0.0              24.0   \n",
       "2019-01-01 11:54:55  1546361695866       0.0              16.0   \n",
       "\n",
       "                                   time  \n",
       "time                                     \n",
       "2019-01-01 10:50:06 2019-01-01 10:50:06  \n",
       "2019-01-01 11:12:26 2019-01-01 11:12:26  \n",
       "2019-01-01 11:16:49 2019-01-01 11:16:49  \n",
       "2019-01-01 11:34:58 2019-01-01 11:34:58  \n",
       "2019-01-01 11:54:55 2019-01-01 11:54:55  "
      ]
     },
     "execution_count": 248,
     "metadata": {},
     "output_type": "execute_result"
    }
   ],
   "source": [
    "raw_2019.head()"
   ]
  },
  {
   "cell_type": "code",
   "execution_count": 249,
   "metadata": {},
   "outputs": [],
   "source": [
    "def group_linestring(group):\n",
    "    try:\n",
    "        return geometry.LineString(list(zip(group.longitudeE7 / 10**7, group.latitudeE7 / 10**7)))\n",
    "    except Exception as e:\n",
    "        return None\n",
    "\n"
   ]
  },
  {
   "cell_type": "code",
   "execution_count": 257,
   "metadata": {},
   "outputs": [],
   "source": [
    "ans = raw_2019.groupby(pd.Grouper(freq='D')).apply(group_linestring)"
   ]
  },
  {
   "cell_type": "code",
   "execution_count": 263,
   "metadata": {},
   "outputs": [],
   "source": [
    "gpd.GeoSeries(ans).to_file('2019_paths.geojson', driver=\"GeoJSON\")"
   ]
  },
  {
   "cell_type": "code",
   "execution_count": 274,
   "metadata": {},
   "outputs": [],
   "source": [
    "geo_raw = gpd.GeoSeries(ans)"
   ]
  },
  {
   "cell_type": "code",
   "execution_count": 276,
   "metadata": {},
   "outputs": [],
   "source": [
    "geo_raw.index = geo_raw.index.strftime(\"%Y-%m-%d\")"
   ]
  },
  {
   "cell_type": "code",
   "execution_count": 278,
   "metadata": {},
   "outputs": [],
   "source": [
    "geo_raw.to_file(\"2019_paths.shp\")"
   ]
  },
  {
   "cell_type": "code",
   "execution_count": null,
   "metadata": {},
   "outputs": [],
   "source": []
  }
 ],
 "metadata": {
  "kernelspec": {
   "display_name": "geo",
   "language": "python",
   "name": "geo"
  },
  "language_info": {
   "codemirror_mode": {
    "name": "ipython",
    "version": 3
   },
   "file_extension": ".py",
   "mimetype": "text/x-python",
   "name": "python",
   "nbconvert_exporter": "python",
   "pygments_lexer": "ipython3",
   "version": "3.5.6"
  }
 },
 "nbformat": 4,
 "nbformat_minor": 2
}
